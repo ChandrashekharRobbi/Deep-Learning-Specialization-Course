{
 "cells": [
  {
   "cell_type": "code",
   "execution_count": 2,
   "id": "e87c5762-01ed-4aa7-8954-8c6f92fbefc0",
   "metadata": {},
   "outputs": [],
   "source": [
    "import numpy as np\n",
    "import time"
   ]
  },
  {
   "cell_type": "code",
   "execution_count": 3,
   "id": "de86b9d8-d4d4-4070-8770-ce4287778e0c",
   "metadata": {},
   "outputs": [],
   "source": [
    "a = np.array([1,2,3,4,5])"
   ]
  },
  {
   "cell_type": "markdown",
   "id": "b60de565-5f97-4013-9228-dda11d5a97e1",
   "metadata": {},
   "source": [
    "### By using the `np.dot` method and By using `For` loop "
   ]
  },
  {
   "cell_type": "code",
   "execution_count": 193,
   "id": "73ac78e6-a672-4f43-b460-002a5a3ec5ac",
   "metadata": {},
   "outputs": [
    {
     "name": "stdout",
     "output_type": "stream",
     "text": [
      "249822.46320001804\n",
      "Vectorized Version:  2.0411014556884766 ms\n",
      "249822.46320001935\n",
      "For loop:  642.1527862548828 ms\n"
     ]
    }
   ],
   "source": [
    "a = np.random.rand(1000000)\n",
    "b = np.random.rand(1000000)\n",
    "\n",
    "tic = time.time()\n",
    "c = np.dot(a, b)\n",
    "toc = time.time()\n",
    "print(c)\n",
    "print(\"Vectorized Version: \", 1000 * (toc - tic), \"ms\")\n",
    "\n",
    "c = 0\n",
    "tic = time.time()\n",
    "for i in range(1000000):\n",
    "    c += a[i] * b[i] \n",
    "toc = time.time()\n",
    "print(c)\n",
    "print(\"For loop: \", 1000 * (toc - tic), \"ms\")"
   ]
  },
  {
   "cell_type": "code",
   "execution_count": null,
   "id": "3fc04215-cc99-45c3-8cd3-152bf84b9cdf",
   "metadata": {},
   "outputs": [],
   "source": []
  },
  {
   "cell_type": "code",
   "execution_count": null,
   "id": "31209929-da7c-49b6-8c05-67ecabd05442",
   "metadata": {},
   "outputs": [],
   "source": []
  },
  {
   "cell_type": "code",
   "execution_count": null,
   "id": "e5a1fb34-dfc5-4357-b44b-f3230b3503ca",
   "metadata": {},
   "outputs": [],
   "source": []
  }
 ],
 "metadata": {
  "kernelspec": {
   "display_name": "Python 3 (ipykernel)",
   "language": "python",
   "name": "python3"
  },
  "language_info": {
   "codemirror_mode": {
    "name": "ipython",
    "version": 3
   },
   "file_extension": ".py",
   "mimetype": "text/x-python",
   "name": "python",
   "nbconvert_exporter": "python",
   "pygments_lexer": "ipython3",
   "version": "3.10.9"
  }
 },
 "nbformat": 4,
 "nbformat_minor": 5
}
