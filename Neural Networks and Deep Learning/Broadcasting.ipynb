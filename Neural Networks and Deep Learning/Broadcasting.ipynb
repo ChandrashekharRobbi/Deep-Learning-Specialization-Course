{
 "cells": [
  {
   "cell_type": "code",
   "execution_count": 1,
   "id": "7ca16c47-4452-4089-9b2e-588ad46b82e4",
   "metadata": {},
   "outputs": [],
   "source": [
    "import numpy as np"
   ]
  },
  {
   "cell_type": "code",
   "execution_count": 7,
   "id": "75a9a14e-e348-4a77-8e2d-89456c6ef939",
   "metadata": {},
   "outputs": [
    {
     "data": {
      "text/plain": [
       "array([[56.  ,  0.  ,  4.  ,  2.3 ],\n",
       "       [24.23, 54.26, 24.85,  1.56],\n",
       "       [ 2.  ,  4.  ,  5.  ,  6.  ]])"
      ]
     },
     "execution_count": 7,
     "metadata": {},
     "output_type": "execute_result"
    }
   ],
   "source": [
    "A = np.array([[56.0,0.0,4.0,2.3],\n",
    "              [24.23,54.26,24.85,1.56],\n",
    "              [2,4,5,6]])\n",
    "A"
   ]
  },
  {
   "cell_type": "code",
   "execution_count": 6,
   "id": "30fba585-5097-4af7-8bef-89be6ea5e87a",
   "metadata": {},
   "outputs": [
    {
     "data": {
      "text/plain": [
       "array([82.23, 58.26, 33.85,  9.86])"
      ]
     },
     "execution_count": 6,
     "metadata": {},
     "output_type": "execute_result"
    }
   ],
   "source": [
    "sum_val = A.sum(axis=0)\n",
    "sum_val"
   ]
  },
  {
   "cell_type": "code",
   "execution_count": 12,
   "id": "bf826acb-09ab-4191-8c2b-b8bddbb2bf27",
   "metadata": {},
   "outputs": [],
   "source": [
    "percentage = 100*A/sum_val"
   ]
  },
  {
   "cell_type": "code",
   "execution_count": 13,
   "id": "10f8f516-28c1-4d70-bfdf-083cdc1d20c5",
   "metadata": {},
   "outputs": [
    {
     "data": {
      "text/plain": [
       "array([[68.10166606,  0.        , 11.816839  , 23.32657201],\n",
       "       [29.46613158, 93.13422588, 73.41211226, 15.82150101],\n",
       "       [ 2.43220236,  6.86577412, 14.77104874, 60.85192698]])"
      ]
     },
     "execution_count": 13,
     "metadata": {},
     "output_type": "execute_result"
    }
   ],
   "source": [
    "percentage"
   ]
  },
  {
   "cell_type": "code",
   "execution_count": null,
   "id": "79df6635-f773-489c-a42e-95a01227481c",
   "metadata": {},
   "outputs": [],
   "source": []
  }
 ],
 "metadata": {
  "kernelspec": {
   "display_name": "Python 3 (ipykernel)",
   "language": "python",
   "name": "python3"
  },
  "language_info": {
   "codemirror_mode": {
    "name": "ipython",
    "version": 3
   },
   "file_extension": ".py",
   "mimetype": "text/x-python",
   "name": "python",
   "nbconvert_exporter": "python",
   "pygments_lexer": "ipython3",
   "version": "3.10.9"
  }
 },
 "nbformat": 4,
 "nbformat_minor": 5
}
