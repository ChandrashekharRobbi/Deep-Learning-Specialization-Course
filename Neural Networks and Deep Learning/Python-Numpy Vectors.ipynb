{
 "cells": [
  {
   "cell_type": "markdown",
   "id": "a84ccd5f-318b-4107-973a-a84b13f295ed",
   "metadata": {},
   "source": [
    "# Python - Numpy Vectors"
   ]
  },
  {
   "cell_type": "code",
   "execution_count": 1,
   "id": "acbcd579-4286-4972-a7e1-d64f5e00f2e1",
   "metadata": {},
   "outputs": [],
   "source": [
    "import numpy as np"
   ]
  },
  {
   "cell_type": "code",
   "execution_count": 2,
   "id": "609f5414-670c-4303-95b3-831a6b286297",
   "metadata": {},
   "outputs": [
    {
     "data": {
      "text/plain": [
       "array([-0.90889104,  0.78343304,  0.56901274,  0.77113313, -1.12435575])"
      ]
     },
     "execution_count": 2,
     "metadata": {},
     "output_type": "execute_result"
    }
   ],
   "source": [
    "a = np.random.randn(5)\n",
    "a"
   ]
  },
  {
   "cell_type": "code",
   "execution_count": 6,
   "id": "db217a68-0382-43dc-85b4-7de065291749",
   "metadata": {},
   "outputs": [
    {
     "data": {
      "text/plain": [
       "(5,)"
      ]
     },
     "execution_count": 6,
     "metadata": {},
     "output_type": "execute_result"
    }
   ],
   "source": [
    "a.T\n",
    "# the above cell and it is showing same output as this are called rank 1 vector and\n",
    "# it should not be used as the shape are different from normal m x n\n",
    "a.shape"
   ]
  },
  {
   "cell_type": "code",
   "execution_count": 7,
   "id": "9aff910a-dc7d-45a4-a926-a4360ad4014d",
   "metadata": {},
   "outputs": [
    {
     "data": {
      "text/plain": [
       "array([[-1.97694207],\n",
       "       [ 0.98279909],\n",
       "       [-0.7027627 ],\n",
       "       [-0.119009  ],\n",
       "       [ 0.67849154]])"
      ]
     },
     "execution_count": 7,
     "metadata": {},
     "output_type": "execute_result"
    }
   ],
   "source": [
    "# we should use when declaring itself\n",
    "a = np.random.randn(5, 1) # (5,1) ✅ and not ❌ (5)\n",
    "a"
   ]
  },
  {
   "cell_type": "code",
   "execution_count": 8,
   "id": "357456c4-eb28-49f7-ab7f-7584c5006bc1",
   "metadata": {},
   "outputs": [
    {
     "data": {
      "text/plain": [
       "array([[-1.97694207,  0.98279909, -0.7027627 , -0.119009  ,  0.67849154]])"
      ]
     },
     "execution_count": 8,
     "metadata": {},
     "output_type": "execute_result"
    }
   ],
   "source": [
    "a.T"
   ]
  },
  {
   "cell_type": "code",
   "execution_count": 9,
   "id": "3cc18d98-9b07-4ebf-92b1-0d7e3bc57f0d",
   "metadata": {},
   "outputs": [
    {
     "data": {
      "text/plain": [
       "(5, 1)"
      ]
     },
     "execution_count": 9,
     "metadata": {},
     "output_type": "execute_result"
    }
   ],
   "source": [
    "a.shape"
   ]
  },
  {
   "cell_type": "code",
   "execution_count": null,
   "id": "f696ca6b-297c-48c0-b911-9ad54c89e2f6",
   "metadata": {},
   "outputs": [],
   "source": []
  }
 ],
 "metadata": {
  "kernelspec": {
   "display_name": "Python 3 (ipykernel)",
   "language": "python",
   "name": "python3"
  },
  "language_info": {
   "codemirror_mode": {
    "name": "ipython",
    "version": 3
   },
   "file_extension": ".py",
   "mimetype": "text/x-python",
   "name": "python",
   "nbconvert_exporter": "python",
   "pygments_lexer": "ipython3",
   "version": "3.10.9"
  }
 },
 "nbformat": 4,
 "nbformat_minor": 5
}
